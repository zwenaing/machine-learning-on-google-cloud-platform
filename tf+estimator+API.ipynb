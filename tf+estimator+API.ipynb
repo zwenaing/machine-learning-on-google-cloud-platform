{
 "cells": [
  {
   "cell_type": "code",
   "execution_count": 2,
   "metadata": {
    "collapsed": false
   },
   "outputs": [
    {
     "name": "stderr",
     "output_type": "stream",
     "text": [
      "Cloning into 'training-data-analyst'...\n"
     ]
    }
   ],
   "source": [
    "%bash\n",
    "git clone https://github.com/GoogleCloudPlatform/training-data-analyst"
   ]
  },
  {
   "cell_type": "code",
   "execution_count": 5,
   "metadata": {
    "collapsed": false
   },
   "outputs": [
    {
     "name": "stdout",
     "output_type": "stream",
     "text": [
      "a_tfstart.ipynb\n",
      "b_estimator.ipynb\n",
      "c_dataset.ipynb\n",
      "debug_demo.ipynb\n",
      "diagrams\n",
      "d_traineval.ipynb\n",
      "e_cloudmle.ipynb\n",
      "taxifare\n",
      "taxi-test.csv\n",
      "taxi-train.csv\n",
      "taxi-valid.csv\n"
     ]
    }
   ],
   "source": [
    "%bash\n",
    "\n",
    "ls training-data-analyst/courses/machine_learning/deepdive/03_tensorflow"
   ]
  },
  {
   "cell_type": "code",
   "execution_count": 6,
   "metadata": {
    "collapsed": false
   },
   "outputs": [
    {
     "name": "stderr",
     "output_type": "stream",
     "text": [
      "/usr/local/envs/py2env/lib/python2.7/site-packages/h5py/__init__.py:36: FutureWarning: Conversion of the second argument of issubdtype from `float` to `np.floating` is deprecated. In future, it will be treated as `np.float64 == np.dtype(float).type`.\n",
      "  from ._conv import register_converters as _register_converters\n"
     ]
    }
   ],
   "source": [
    "import tensorflow as tf\n",
    "import pandas as pd\n",
    "import numpy as np"
   ]
  },
  {
   "cell_type": "code",
   "execution_count": 21,
   "metadata": {
    "collapsed": false
   },
   "outputs": [],
   "source": [
    "path = 'training-data-analyst/courses/machine_learning/deepdive/03_tensorflow/'\n",
    "\n",
    "COLUMN_NAMES = ['fare_amount', 'pickup_longitude', 'pickup_latitude', 'dropoff_longitude', 'dropoff_latitude', 'number_of_passengers', 'key']\n",
    "df_train = pd.read_csv(path + 'taxi-train.csv', names=COLUMN_NAMES, header=None)\n",
    "df_validation = pd.read_csv(path + 'taxi-valid.csv', names=COLUMN_NAMES, header=None)\n",
    "df_test = pd.read_csv(path + 'taxi-test.csv', names=COLUMN_NAMES, header=None)"
   ]
  },
  {
   "cell_type": "code",
   "execution_count": 23,
   "metadata": {
    "collapsed": false
   },
   "outputs": [
    {
     "data": {
      "text/html": [
       "<div>\n",
       "<style scoped>\n",
       "    .dataframe tbody tr th:only-of-type {\n",
       "        vertical-align: middle;\n",
       "    }\n",
       "\n",
       "    .dataframe tbody tr th {\n",
       "        vertical-align: top;\n",
       "    }\n",
       "\n",
       "    .dataframe thead th {\n",
       "        text-align: right;\n",
       "    }\n",
       "</style>\n",
       "<table border=\"1\" class=\"dataframe\">\n",
       "  <thead>\n",
       "    <tr style=\"text-align: right;\">\n",
       "      <th></th>\n",
       "      <th>fare_amount</th>\n",
       "      <th>pickup_longitude</th>\n",
       "      <th>pickup_latitude</th>\n",
       "      <th>dropoff_longitude</th>\n",
       "      <th>dropoff_latitude</th>\n",
       "      <th>number_of_passengers</th>\n",
       "      <th>key</th>\n",
       "    </tr>\n",
       "  </thead>\n",
       "  <tbody>\n",
       "    <tr>\n",
       "      <th>0</th>\n",
       "      <td>12.0</td>\n",
       "      <td>-73.987625</td>\n",
       "      <td>40.750617</td>\n",
       "      <td>-73.971163</td>\n",
       "      <td>40.785180</td>\n",
       "      <td>1</td>\n",
       "      <td>0</td>\n",
       "    </tr>\n",
       "    <tr>\n",
       "      <th>1</th>\n",
       "      <td>4.5</td>\n",
       "      <td>-73.963620</td>\n",
       "      <td>40.774363</td>\n",
       "      <td>-73.953485</td>\n",
       "      <td>40.772665</td>\n",
       "      <td>1</td>\n",
       "      <td>1</td>\n",
       "    </tr>\n",
       "    <tr>\n",
       "      <th>2</th>\n",
       "      <td>4.5</td>\n",
       "      <td>-73.989649</td>\n",
       "      <td>40.756633</td>\n",
       "      <td>-73.985597</td>\n",
       "      <td>40.765662</td>\n",
       "      <td>1</td>\n",
       "      <td>2</td>\n",
       "    </tr>\n",
       "    <tr>\n",
       "      <th>3</th>\n",
       "      <td>10.0</td>\n",
       "      <td>-73.993950</td>\n",
       "      <td>40.727524</td>\n",
       "      <td>-74.006584</td>\n",
       "      <td>40.744240</td>\n",
       "      <td>1</td>\n",
       "      <td>3</td>\n",
       "    </tr>\n",
       "    <tr>\n",
       "      <th>4</th>\n",
       "      <td>2.5</td>\n",
       "      <td>-73.950223</td>\n",
       "      <td>40.668960</td>\n",
       "      <td>-73.948112</td>\n",
       "      <td>40.668872</td>\n",
       "      <td>6</td>\n",
       "      <td>4</td>\n",
       "    </tr>\n",
       "  </tbody>\n",
       "</table>\n",
       "</div>"
      ],
      "text/plain": [
       "   fare_amount  pickup_longitude  pickup_latitude  dropoff_longitude  \\\n",
       "0         12.0        -73.987625        40.750617         -73.971163   \n",
       "1          4.5        -73.963620        40.774363         -73.953485   \n",
       "2          4.5        -73.989649        40.756633         -73.985597   \n",
       "3         10.0        -73.993950        40.727524         -74.006584   \n",
       "4          2.5        -73.950223        40.668960         -73.948112   \n",
       "\n",
       "   dropoff_latitude  number_of_passengers  key  \n",
       "0         40.785180                     1    0  \n",
       "1         40.772665                     1    1  \n",
       "2         40.765662                     1    2  \n",
       "3         40.744240                     1    3  \n",
       "4         40.668872                     6    4  "
      ]
     },
     "execution_count": 23,
     "metadata": {},
     "output_type": "execute_result"
    }
   ],
   "source": [
    "df_train.head()"
   ]
  },
  {
   "cell_type": "code",
   "execution_count": 24,
   "metadata": {
    "collapsed": false
   },
   "outputs": [
    {
     "data": {
      "text/html": [
       "<div>\n",
       "<style scoped>\n",
       "    .dataframe tbody tr th:only-of-type {\n",
       "        vertical-align: middle;\n",
       "    }\n",
       "\n",
       "    .dataframe tbody tr th {\n",
       "        vertical-align: top;\n",
       "    }\n",
       "\n",
       "    .dataframe thead th {\n",
       "        text-align: right;\n",
       "    }\n",
       "</style>\n",
       "<table border=\"1\" class=\"dataframe\">\n",
       "  <thead>\n",
       "    <tr style=\"text-align: right;\">\n",
       "      <th></th>\n",
       "      <th>fare_amount</th>\n",
       "      <th>pickup_longitude</th>\n",
       "      <th>pickup_latitude</th>\n",
       "      <th>dropoff_longitude</th>\n",
       "      <th>dropoff_latitude</th>\n",
       "      <th>number_of_passengers</th>\n",
       "      <th>key</th>\n",
       "    </tr>\n",
       "  </thead>\n",
       "  <tbody>\n",
       "    <tr>\n",
       "      <th>count</th>\n",
       "      <td>7770.000000</td>\n",
       "      <td>7770.000000</td>\n",
       "      <td>7770.000000</td>\n",
       "      <td>7770.000000</td>\n",
       "      <td>7770.000000</td>\n",
       "      <td>7770.000000</td>\n",
       "      <td>7770.000000</td>\n",
       "    </tr>\n",
       "    <tr>\n",
       "      <th>mean</th>\n",
       "      <td>11.091293</td>\n",
       "      <td>-73.975320</td>\n",
       "      <td>40.751353</td>\n",
       "      <td>-73.974881</td>\n",
       "      <td>40.751501</td>\n",
       "      <td>1.733719</td>\n",
       "      <td>3884.500000</td>\n",
       "    </tr>\n",
       "    <tr>\n",
       "      <th>std</th>\n",
       "      <td>9.076088</td>\n",
       "      <td>0.039807</td>\n",
       "      <td>0.030734</td>\n",
       "      <td>0.039604</td>\n",
       "      <td>0.034357</td>\n",
       "      <td>1.354334</td>\n",
       "      <td>2243.150129</td>\n",
       "    </tr>\n",
       "    <tr>\n",
       "      <th>min</th>\n",
       "      <td>2.500000</td>\n",
       "      <td>-74.417107</td>\n",
       "      <td>40.277250</td>\n",
       "      <td>-74.417107</td>\n",
       "      <td>40.303627</td>\n",
       "      <td>1.000000</td>\n",
       "      <td>0.000000</td>\n",
       "    </tr>\n",
       "    <tr>\n",
       "      <th>25%</th>\n",
       "      <td>6.000000</td>\n",
       "      <td>-73.992332</td>\n",
       "      <td>40.737163</td>\n",
       "      <td>-73.991900</td>\n",
       "      <td>40.735094</td>\n",
       "      <td>1.000000</td>\n",
       "      <td>1942.250000</td>\n",
       "    </tr>\n",
       "    <tr>\n",
       "      <th>50%</th>\n",
       "      <td>8.100000</td>\n",
       "      <td>-73.982062</td>\n",
       "      <td>40.753661</td>\n",
       "      <td>-73.981085</td>\n",
       "      <td>40.754028</td>\n",
       "      <td>1.000000</td>\n",
       "      <td>3884.500000</td>\n",
       "    </tr>\n",
       "    <tr>\n",
       "      <th>75%</th>\n",
       "      <td>12.500000</td>\n",
       "      <td>-73.968422</td>\n",
       "      <td>40.767864</td>\n",
       "      <td>-73.966838</td>\n",
       "      <td>40.768631</td>\n",
       "      <td>2.000000</td>\n",
       "      <td>5826.750000</td>\n",
       "    </tr>\n",
       "    <tr>\n",
       "      <th>max</th>\n",
       "      <td>82.250000</td>\n",
       "      <td>-73.137393</td>\n",
       "      <td>41.366138</td>\n",
       "      <td>-73.137393</td>\n",
       "      <td>41.366138</td>\n",
       "      <td>6.000000</td>\n",
       "      <td>7769.000000</td>\n",
       "    </tr>\n",
       "  </tbody>\n",
       "</table>\n",
       "</div>"
      ],
      "text/plain": [
       "       fare_amount  pickup_longitude  pickup_latitude  dropoff_longitude  \\\n",
       "count  7770.000000       7770.000000      7770.000000        7770.000000   \n",
       "mean     11.091293        -73.975320        40.751353         -73.974881   \n",
       "std       9.076088          0.039807         0.030734           0.039604   \n",
       "min       2.500000        -74.417107        40.277250         -74.417107   \n",
       "25%       6.000000        -73.992332        40.737163         -73.991900   \n",
       "50%       8.100000        -73.982062        40.753661         -73.981085   \n",
       "75%      12.500000        -73.968422        40.767864         -73.966838   \n",
       "max      82.250000        -73.137393        41.366138         -73.137393   \n",
       "\n",
       "       dropoff_latitude  number_of_passengers          key  \n",
       "count       7770.000000           7770.000000  7770.000000  \n",
       "mean          40.751501              1.733719  3884.500000  \n",
       "std            0.034357              1.354334  2243.150129  \n",
       "min           40.303627              1.000000     0.000000  \n",
       "25%           40.735094              1.000000  1942.250000  \n",
       "50%           40.754028              1.000000  3884.500000  \n",
       "75%           40.768631              2.000000  5826.750000  \n",
       "max           41.366138              6.000000  7769.000000  "
      ]
     },
     "execution_count": 24,
     "metadata": {},
     "output_type": "execute_result"
    }
   ],
   "source": [
    "df_train.describe()"
   ]
  },
  {
   "cell_type": "code",
   "execution_count": 27,
   "metadata": {
    "collapsed": true
   },
   "outputs": [],
   "source": [
    "FEATURES = COLUMN_NAMES[1:len(FEATURES) - 1]\n",
    "LABEL = COLUMN_NAMES[0]"
   ]
  },
  {
   "cell_type": "code",
   "execution_count": 29,
   "metadata": {
    "collapsed": false
   },
   "outputs": [],
   "source": [
    "def get_feature_columns():\n",
    "  features = [tf.feature_column.numeric_column(f) for f in FEATURES]\n",
    "  return features\n",
    "\n",
    "def train_input_fn(df, num_epochs):\n",
    "  return tf.estimator.inputs.pandas_input_fn(\n",
    "    x = df,\n",
    "    y = df[LABEL],\n",
    "    batch_size = 128,\n",
    "    num_epochs = num_epochs,\n",
    "    shuffle = True,\n",
    "    queue_capacity = 1000,\n",
    "    num_threads = 1\n",
    "  )\n",
    "\n",
    "def predict_input_fn(df, num_epochs):\n",
    "  return tf.estimator.inputs.pandas_input_fn(\n",
    "    x = df,\n",
    "    y = None,\n",
    "    batch_size = 128,\n",
    "    num_epochs = num_epochs,\n",
    "    shuffle = True,\n",
    "    queue_capacity = 1000,\n",
    "    num_threads = 1\n",
    "  )"
   ]
  },
  {
   "cell_type": "code",
   "execution_count": 42,
   "metadata": {
    "collapsed": false
   },
   "outputs": [
    {
     "name": "stdout",
     "output_type": "stream",
     "text": [
      "INFO:tensorflow:Using default config.\n",
      "INFO:tensorflow:Using config: {'_save_checkpoints_secs': 600, '_session_config': None, '_keep_checkpoint_max': 5, '_task_type': 'worker', '_train_distribute': None, '_is_chief': True, '_cluster_spec': <tensorflow.python.training.server_lib.ClusterSpec object at 0x7f0c0759ba50>, '_evaluation_master': '', '_save_checkpoints_steps': None, '_keep_checkpoint_every_n_hours': 10000, '_service': None, '_num_ps_replicas': 0, '_tf_random_seed': None, '_master': '', '_num_worker_replicas': 1, '_task_id': 0, '_log_step_count_steps': 100, '_model_dir': './taxi-trained', '_global_id_in_cluster': 0, '_save_summary_steps': 100}\n",
      "INFO:tensorflow:Calling model_fn.\n",
      "INFO:tensorflow:Done calling model_fn.\n",
      "INFO:tensorflow:Create CheckpointSaverHook.\n",
      "INFO:tensorflow:Graph was finalized.\n",
      "INFO:tensorflow:Restoring parameters from ./taxi-trained/model.ckpt-1824\n",
      "INFO:tensorflow:Running local_init_op.\n",
      "INFO:tensorflow:Done running local_init_op.\n",
      "INFO:tensorflow:Saving checkpoints for 1825 into ./taxi-trained/model.ckpt.\n",
      "INFO:tensorflow:loss = 6541.654, step = 1825\n",
      "INFO:tensorflow:global_step/sec: 264.619\n",
      "INFO:tensorflow:loss = 11105.086, step = 1925 (0.382 sec)\n",
      "INFO:tensorflow:global_step/sec: 301.42\n",
      "INFO:tensorflow:loss = 12065.26, step = 2025 (0.333 sec)\n",
      "INFO:tensorflow:global_step/sec: 292.943\n",
      "INFO:tensorflow:loss = 14552.187, step = 2125 (0.340 sec)\n",
      "INFO:tensorflow:global_step/sec: 288.407\n",
      "INFO:tensorflow:loss = 11085.373, step = 2225 (0.347 sec)\n",
      "INFO:tensorflow:global_step/sec: 301.342\n",
      "INFO:tensorflow:loss = 10286.725, step = 2325 (0.332 sec)\n",
      "INFO:tensorflow:global_step/sec: 306.323\n",
      "INFO:tensorflow:loss = 7323.0776, step = 2425 (0.327 sec)\n",
      "INFO:tensorflow:Saving checkpoints for 2432 into ./taxi-trained/model.ckpt.\n",
      "INFO:tensorflow:Loss for final step: 29.221598.\n"
     ]
    },
    {
     "data": {
      "text/plain": [
       "<tensorflow.python.estimator.canned.linear.LinearRegressor at 0x7f0c0759bc10>"
      ]
     },
     "execution_count": 42,
     "metadata": {},
     "output_type": "execute_result"
    }
   ],
   "source": [
    "log_dir = './taxi-trained'\n",
    "\n",
    "tf.logging.set_verbosity(tf.logging.INFO)\n",
    "model = tf.estimator.LinearRegressor(feature_columns=get_feature_columns(), model_dir=log_dir)\n",
    "\n",
    "model.train(\n",
    "  input_fn = train_input_fn(df_train, 10)\n",
    ")"
   ]
  },
  {
   "cell_type": "code",
   "execution_count": 32,
   "metadata": {
    "collapsed": false
   },
   "outputs": [
    {
     "name": "stdout",
     "output_type": "stream",
     "text": [
      "INFO:tensorflow:Calling model_fn.\n",
      "INFO:tensorflow:Done calling model_fn.\n",
      "INFO:tensorflow:Starting evaluation at 2018-06-11-03:20:24\n",
      "INFO:tensorflow:Graph was finalized.\n",
      "INFO:tensorflow:Restoring parameters from ./taxi-trained/model.ckpt-608\n",
      "INFO:tensorflow:Running local_init_op.\n",
      "INFO:tensorflow:Done running local_init_op.\n",
      "INFO:tensorflow:Finished evaluation at 2018-06-11-03:20:24\n",
      "INFO:tensorflow:Saving dict for global step 608: average_loss = 109.34633, global_step = 608, loss = 13004.403\n",
      "The average loss on validation dataset is 109.346328735\n"
     ]
    }
   ],
   "source": [
    "metrics = model.evaluate(\n",
    "  input_fn = train_input_fn(df_validation, 1)\n",
    ")\n",
    "print(\"The average loss on validation dataset is {}\".format(metrics['average_loss']))"
   ]
  },
  {
   "cell_type": "code",
   "execution_count": 38,
   "metadata": {
    "collapsed": true
   },
   "outputs": [],
   "source": [
    "predictions = model.predict(\n",
    "  input_fn = predict_input_fn(df_test, 1)\n",
    ")"
   ]
  },
  {
   "cell_type": "code",
   "execution_count": 39,
   "metadata": {
    "collapsed": false
   },
   "outputs": [
    {
     "name": "stdout",
     "output_type": "stream",
     "text": [
      "INFO:tensorflow:Calling model_fn.\n",
      "INFO:tensorflow:Done calling model_fn.\n",
      "INFO:tensorflow:Graph was finalized.\n",
      "INFO:tensorflow:Restoring parameters from ./taxi-trained/model.ckpt-608\n",
      "INFO:tensorflow:Running local_init_op.\n",
      "INFO:tensorflow:Done running local_init_op.\n",
      "{'predictions': array([10.938421], dtype=float32)}\n",
      "{'predictions': array([10.940023], dtype=float32)}\n",
      "{'predictions': array([10.939257], dtype=float32)}\n",
      "{'predictions': array([10.938503], dtype=float32)}\n",
      "{'predictions': array([10.94262], dtype=float32)}\n",
      "{'predictions': array([10.939071], dtype=float32)}\n",
      "{'predictions': array([10.938959], dtype=float32)}\n",
      "{'predictions': array([10.934711], dtype=float32)}\n",
      "{'predictions': array([10.93951], dtype=float32)}\n",
      "{'predictions': array([10.939154], dtype=float32)}\n"
     ]
    }
   ],
   "source": [
    "for _ in range(10):\n",
    "  print(predictions.next())"
   ]
  },
  {
   "cell_type": "code",
   "execution_count": 46,
   "metadata": {
    "collapsed": false
   },
   "outputs": [
    {
     "name": "stdout",
     "output_type": "stream",
     "text": [
      "INFO:tensorflow:Using default config.\n",
      "INFO:tensorflow:Using config: {'_save_checkpoints_secs': 600, '_session_config': None, '_keep_checkpoint_max': 5, '_task_type': 'worker', '_train_distribute': None, '_is_chief': True, '_cluster_spec': <tensorflow.python.training.server_lib.ClusterSpec object at 0x7f0c06b94a10>, '_evaluation_master': '', '_save_checkpoints_steps': None, '_keep_checkpoint_every_n_hours': 10000, '_service': None, '_num_ps_replicas': 0, '_tf_random_seed': None, '_master': '', '_num_worker_replicas': 1, '_task_id': 0, '_log_step_count_steps': 100, '_model_dir': 'taxi-dnn-trained', '_global_id_in_cluster': 0, '_save_summary_steps': 100}\n",
      "INFO:tensorflow:Calling model_fn.\n",
      "INFO:tensorflow:Done calling model_fn.\n",
      "INFO:tensorflow:Create CheckpointSaverHook.\n",
      "INFO:tensorflow:Graph was finalized.\n",
      "INFO:tensorflow:Running local_init_op.\n",
      "INFO:tensorflow:Done running local_init_op.\n",
      "INFO:tensorflow:Saving checkpoints for 1 into taxi-dnn-trained/model.ckpt.\n",
      "INFO:tensorflow:loss = 1877991.0, step = 1\n",
      "INFO:tensorflow:global_step/sec: 224.183\n",
      "INFO:tensorflow:loss = 7790.9346, step = 101 (0.455 sec)\n",
      "INFO:tensorflow:global_step/sec: 248.676\n",
      "INFO:tensorflow:loss = 14974.384, step = 201 (0.398 sec)\n",
      "INFO:tensorflow:global_step/sec: 228.479\n",
      "INFO:tensorflow:loss = 8867.277, step = 301 (0.438 sec)\n",
      "INFO:tensorflow:global_step/sec: 243.541\n",
      "INFO:tensorflow:loss = 9243.2295, step = 401 (0.410 sec)\n",
      "INFO:tensorflow:global_step/sec: 248.568\n",
      "INFO:tensorflow:loss = 7110.896, step = 501 (0.403 sec)\n",
      "INFO:tensorflow:global_step/sec: 263.172\n",
      "INFO:tensorflow:loss = 11099.15, step = 601 (0.380 sec)\n",
      "INFO:tensorflow:Saving checkpoints for 608 into taxi-dnn-trained/model.ckpt.\n",
      "INFO:tensorflow:Loss for final step: 173.73842.\n"
     ]
    },
    {
     "data": {
      "text/plain": [
       "<tensorflow.python.estimator.canned.dnn.DNNRegressor at 0x7f0c06b94910>"
      ]
     },
     "execution_count": 46,
     "metadata": {},
     "output_type": "execute_result"
    }
   ],
   "source": [
    "import shutil\n",
    "\n",
    "log_dir = 'taxi-dnn-trained'\n",
    "shutil.rmtree(log_dir)\n",
    "model = tf.estimator.DNNRegressor(\n",
    "  hidden_units = [4, 2],\n",
    "  feature_columns = get_feature_columns(),\n",
    "  model_dir = log_dir\n",
    ")\n",
    "\n",
    "model.train(input_fn = train_input_fn(df_train, 10))"
   ]
  },
  {
   "cell_type": "code",
   "execution_count": 47,
   "metadata": {
    "collapsed": false
   },
   "outputs": [
    {
     "name": "stdout",
     "output_type": "stream",
     "text": [
      "INFO:tensorflow:Calling model_fn.\n",
      "INFO:tensorflow:Done calling model_fn.\n",
      "INFO:tensorflow:Starting evaluation at 2018-06-11-03:27:35\n",
      "INFO:tensorflow:Graph was finalized.\n",
      "INFO:tensorflow:Restoring parameters from taxi-dnn-trained/model.ckpt-608\n",
      "INFO:tensorflow:Running local_init_op.\n",
      "INFO:tensorflow:Done running local_init_op.\n",
      "INFO:tensorflow:Finished evaluation at 2018-06-11-03:27:35\n",
      "INFO:tensorflow:Saving dict for global step 608: average_loss = 109.116875, global_step = 608, loss = 12977.114\n",
      "The average loss on validation dataset is 109.116874695\n"
     ]
    }
   ],
   "source": [
    "metrics = model.evaluate(\n",
    "  input_fn = train_input_fn(df_validation, 1)\n",
    ")\n",
    "print(\"The average loss on validation dataset is {}\".format(metrics['average_loss']))"
   ]
  },
  {
   "cell_type": "code",
   "execution_count": 48,
   "metadata": {
    "collapsed": false
   },
   "outputs": [
    {
     "name": "stdout",
     "output_type": "stream",
     "text": [
      "INFO:tensorflow:Calling model_fn.\n",
      "INFO:tensorflow:Done calling model_fn.\n",
      "INFO:tensorflow:Graph was finalized.\n",
      "INFO:tensorflow:Restoring parameters from taxi-dnn-trained/model.ckpt-608\n",
      "INFO:tensorflow:Running local_init_op.\n",
      "INFO:tensorflow:Done running local_init_op.\n",
      "{'predictions': array([11.132646], dtype=float32)}\n",
      "{'predictions': array([11.133021], dtype=float32)}\n",
      "{'predictions': array([11.135671], dtype=float32)}\n",
      "{'predictions': array([11.120423], dtype=float32)}\n",
      "{'predictions': array([11.126996], dtype=float32)}\n",
      "{'predictions': array([11.126618], dtype=float32)}\n",
      "{'predictions': array([11.12947], dtype=float32)}\n",
      "{'predictions': array([11.109124], dtype=float32)}\n",
      "{'predictions': array([11.132747], dtype=float32)}\n",
      "{'predictions': array([11.133456], dtype=float32)}\n"
     ]
    }
   ],
   "source": [
    "predictions = model.predict(\n",
    "  input_fn = predict_input_fn(df_test, 1)\n",
    ")\n",
    "\n",
    "for _ in range(10):\n",
    "  print(predictions.next())"
   ]
  }
 ],
 "metadata": {
  "kernelspec": {
   "display_name": "Python 3",
   "language": "python",
   "name": "python3"
  },
  "language_info": {
   "codemirror_mode": {
    "name": "ipython",
    "version": 3
   },
   "file_extension": ".py",
   "mimetype": "text/x-python",
   "name": "python",
   "nbconvert_exporter": "python",
   "pygments_lexer": "ipython3",
   "version": "3.5.5"
  }
 },
 "nbformat": 4,
 "nbformat_minor": 2
}
